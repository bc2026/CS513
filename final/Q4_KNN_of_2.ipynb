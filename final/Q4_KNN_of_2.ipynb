{
 "cells": [
  {
   "cell_type": "code",
   "execution_count": null,
   "id": "00b95d4a",
   "metadata": {},
   "outputs": [],
   "source": [
    "import numpy as np\n",
    "import pandas as pd\n",
    "from sklearn.model_selection import train_test_split\n",
    "from sklearn.neighbors import KNeighborsClassifier"
   ]
  },
  {
   "cell_type": "code",
   "execution_count": null,
   "id": "e224bf12",
   "metadata": {},
   "outputs": [],
   "source": [
    "from sklearn.datasets import load_iris\n",
    "iris_data = load_iris()\n",
    "type(iris_data)"
   ]
  },
  {
   "cell_type": "code",
   "execution_count": null,
   "id": "02467c17",
   "metadata": {},
   "outputs": [],
   "source": [
    "  \n",
    "# # IMPORT THE IRIS DATA FROM THE \n",
    "# # SKLEARN MODULE\n",
    "# from sklearn.datasets import load_iris\n",
    "  \n",
    "# # LOAD THE IRIS DATASET BY CALLING\n",
    "# # THE FUNCTION\n",
    "# iris_data = load_iris()\n",
    " \n",
    "  \n",
    "# # PLACE THE IRIS DATA IN A PANDAS\n",
    "# # DATAFRAME\n",
    "# attr = pd.DataFrame(data=iris_data.data, \n",
    "#                   columns=iris_data.feature_names)\n",
    "# target =pd.DataFrame({'Species': iris_data.target})\n",
    "\n",
    "# # DISPLAY FIRST 5 RECORDS OF THE \n",
    "# # DATAFRAME\n",
    "# target.head()\n",
    "# attr.head(10)"
   ]
  },
  {
   "cell_type": "code",
   "execution_count": null,
   "id": "6dfc010b",
   "metadata": {},
   "outputs": [],
   "source": [
    "# Loading iris\n",
    "df = pd.read_csv('C:/Users/kdehn/OneDrive - stevens.edu/___Data/CSV_files/iris.csv')\n",
    "# df.head()\n",
    "print(df.describe())\n",
    "# #data preprocessing\n",
    "# df['Species'] = pd.Categorical(df['Species'])  # convert Species column to categorical data type\n",
    "df.head(10)"
   ]
  },
  {
   "cell_type": "code",
   "execution_count": null,
   "id": "febbdef8",
   "metadata": {},
   "outputs": [],
   "source": [
    "df = df.dropna() # drops NaN values \n",
    "print(df[df.isna().any(axis=1)]) # shows NaN values in data frame if it exists\n",
    "\n",
    "# Splitting the dataset\n",
    "attr = df.drop(columns = ['Species'])  # features\n",
    "target = df['Species']  # target variable\n",
    "# attr.head()\n",
    "target.head()"
   ]
  },
  {
   "cell_type": "code",
   "execution_count": null,
   "id": "4fb20c33",
   "metadata": {},
   "outputs": [],
   "source": []
  },
  {
   "cell_type": "code",
   "execution_count": null,
   "id": "e37b6e3e",
   "metadata": {},
   "outputs": [],
   "source": [
    "from sklearn.preprocessing import MinMaxScaler\n",
    "# Initialize MinMaxScaler\n",
    "scaler = MinMaxScaler()\n",
    "# Fit and transform the data\n",
    "attr = pd.DataFrame(scaler.fit_transform(attr), columns=attr.columns)\n",
    "attr.head()"
   ]
  },
  {
   "cell_type": "code",
   "execution_count": null,
   "id": "1e7efc59",
   "metadata": {},
   "outputs": [],
   "source": [
    "\n",
    "attr_train, attr_test, target_train,target_test  = train_test_split(attr, target,test_size = 0.25, random_state = 3, shuffle = True)\n",
    "target_train.head()\n",
    "# attr_train.head()\n",
    "target_test.head()"
   ]
  },
  {
   "cell_type": "code",
   "execution_count": null,
   "id": "9b4a2ffb",
   "metadata": {},
   "outputs": [],
   "source": [
    "# from sklearn.neighbors import KNeighborsClassifier\n",
    "from sklearn.metrics import accuracy_score\n",
    "k_values = [1,3, 5, 10,20]\n",
    "\n",
    "for k in k_values:\n",
    "    knn = KNeighborsClassifier(n_neighbors = k)\n",
    "#     knn = KNeighborsClassifier(n_neighbors = k,weights='distance')\n",
    "    knn.fit(attr_train, target_train)\n",
    "    target_pred = knn.predict(attr_test)\n",
    "#     accuracy = round(np.mean(target_test==target_pred ) * 100, 2)\n",
    "    accuracy = accuracy_score(target_test,target_pred ) \n",
    "    print(f'Accuracy of model with k = {k}: {accuracy}%')\n",
    "    print('')"
   ]
  },
  {
   "cell_type": "code",
   "execution_count": null,
   "id": "53c17f10",
   "metadata": {},
   "outputs": [],
   "source": [
    "from sklearn.metrics import accuracy_score\n",
    "from sklearn.metrics import classification_report\n",
    "from sklearn.metrics import confusion_matrix\n",
    "\n",
    "cm=confusion_matrix(target_test, target_pred)\n",
    "\n",
    "print('Confusion Matrix')\n",
    "print(confusion_matrix(target_test, target_pred))\n",
    "print()\n",
    "print('Accuracy score')\n",
    "print(accuracy_score(target_test, target_pred))\n",
    "print()\n",
    "print('Classification Report')\n",
    "print(classification_report(target_test, target_pred))\n"
   ]
  },
  {
   "cell_type": "code",
   "execution_count": null,
   "id": "73b120ca",
   "metadata": {},
   "outputs": [],
   "source": [
    "# target_pred.head()\n",
    "attr_test['target_pred']=target_pred\n",
    "# print(target_test)\n",
    "attr_test['target_actual']= target_test\n",
    "attr_test.head()\n"
   ]
  },
  {
   "cell_type": "code",
   "execution_count": null,
   "id": "a076de58",
   "metadata": {},
   "outputs": [],
   "source": []
  },
  {
   "cell_type": "code",
   "execution_count": null,
   "id": "48ecc343",
   "metadata": {},
   "outputs": [],
   "source": [
    "import seaborn as sns\n",
    "import matplotlib.pyplot as plt     \n",
    "\n",
    "ax= plt.subplot()\n",
    "sns.heatmap(cm, annot=True, fmt='g', ax=ax);  #annot=True to annotate cells, ftm='g' to disable scientific notation\n",
    "\n",
    "# labels, title and ticks\n",
    "ax.set_xlabel('Predicted labels');ax.set_ylabel('True labels'); \n",
    "ax.set_title('Confusion Matrix'); \n",
    "ax.xaxis.set_ticklabels(['Setosa', 'Versicolor','Virginica'])\n",
    "ax.yaxis.set_ticklabels(['Setosa', 'Versicolor','Virginica'])"
   ]
  }
 ],
 "metadata": {
  "kernelspec": {
   "display_name": "Python 3 (ipykernel)",
   "language": "python",
   "name": "python3"
  },
  "language_info": {
   "codemirror_mode": {
    "name": "ipython",
    "version": 3
   },
   "file_extension": ".py",
   "mimetype": "text/x-python",
   "name": "python",
   "nbconvert_exporter": "python",
   "pygments_lexer": "ipython3",
   "version": "3.10.9"
  }
 },
 "nbformat": 4,
 "nbformat_minor": 5
}
