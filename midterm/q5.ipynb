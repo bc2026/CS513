{
 "cells": [
  {
   "cell_type": "code",
   "execution_count": 63,
   "id": "27d09119",
   "metadata": {},
   "outputs": [],
   "source": [
    "import pandas as pd\n",
    "from sklearn.model_selection import train_test_split\n",
    "from sklearn.tree import DecisionTreeClassifier\n",
    "from sklearn.metrics import confusion_matrix, classification_report\n",
    "import seaborn as sns\n",
    "import matplotlib.pyplot as plt\n",
    "from sklearn.tree import plot_tree"
   ]
  },
  {
   "cell_type": "code",
   "execution_count": 64,
   "id": "04c626e1",
   "metadata": {},
   "outputs": [
    {
     "name": "stdout",
     "output_type": "stream",
     "text": [
      "Empty DataFrame\n",
      "Columns: [age, sex, trestbps, chol, fbs, restecg, thalach, exang, Heart_problem, Age_Quantile]\n",
      "Index: []\n",
      "<class 'pandas.core.frame.DataFrame'>\n",
      "RangeIndex: 303 entries, 0 to 302\n",
      "Data columns (total 10 columns):\n",
      " #   Column         Non-Null Count  Dtype \n",
      "---  ------         --------------  ----- \n",
      " 0   age            303 non-null    int64 \n",
      " 1   sex            303 non-null    int64 \n",
      " 2   trestbps       303 non-null    int64 \n",
      " 3   chol           303 non-null    int64 \n",
      " 4   fbs            303 non-null    int64 \n",
      " 5   restecg        303 non-null    int64 \n",
      " 6   thalach        303 non-null    int64 \n",
      " 7   exang          303 non-null    int64 \n",
      " 8   Heart_problem  303 non-null    int64 \n",
      " 9   Age_Quantile   303 non-null    object\n",
      "dtypes: int64(9), object(1)\n",
      "memory usage: 23.8+ KB\n"
     ]
    }
   ],
   "source": [
    "# Load Titanic dataset \n",
    "df = pd.read_csv('./UCI_heart.csv')\n",
    "\n",
    "print(df[df.isna().any(axis=1)]) # shows NaN values in data frame if it exists\n",
    "df.info()"
   ]
  },
  {
   "cell_type": "code",
   "execution_count": 65,
   "id": "f52d37ee",
   "metadata": {},
   "outputs": [
    {
     "name": "stdout",
     "output_type": "stream",
     "text": [
      "<class 'pandas.core.frame.DataFrame'>\n",
      "RangeIndex: 303 entries, 0 to 302\n",
      "Data columns (total 9 columns):\n",
      " #   Column         Non-Null Count  Dtype\n",
      "---  ------         --------------  -----\n",
      " 0   age            303 non-null    int64\n",
      " 1   sex            303 non-null    int64\n",
      " 2   trestbps       303 non-null    int64\n",
      " 3   chol           303 non-null    int64\n",
      " 4   fbs            303 non-null    int64\n",
      " 5   restecg        303 non-null    int64\n",
      " 6   thalach        303 non-null    int64\n",
      " 7   exang          303 non-null    int64\n",
      " 8   Heart_problem  303 non-null    int64\n",
      "dtypes: int64(9)\n",
      "memory usage: 21.4 KB\n",
      "<class 'pandas.core.frame.DataFrame'>\n",
      "RangeIndex: 303 entries, 0 to 302\n",
      "Data columns (total 1 columns):\n",
      " #   Column        Non-Null Count  Dtype \n",
      "---  ------        --------------  ----- \n",
      " 0   Age_Quantile  303 non-null    object\n",
      "dtypes: object(1)\n",
      "memory usage: 2.5+ KB\n"
     ]
    }
   ],
   "source": [
    "df_num= df.select_dtypes(exclude='object')\n",
    "df_obj= df.select_dtypes(include='object')\n",
    "df_num.info()\n",
    "df_obj.info()"
   ]
  },
  {
   "cell_type": "code",
   "execution_count": 66,
   "id": "0580a368",
   "metadata": {},
   "outputs": [
    {
     "name": "stdout",
     "output_type": "stream",
     "text": [
      "Age_Quantile_Q1    82\n",
      "Age_Quantile_Q2    80\n",
      "Age_Quantile_Q3    70\n",
      "Age_Quantile_Q4    71\n",
      "dtype: int64\n",
      "Age_Quantile_Q1    27.062706\n",
      "Age_Quantile_Q2    26.402640\n",
      "Age_Quantile_Q3    23.102310\n",
      "Age_Quantile_Q4    23.432343\n",
      "dtype: float64\n"
     ]
    },
    {
     "data": {
      "image/png": "[encoded data removed]",
      "text/plain": [
       "<Figure size 640x480 with 1 Axes>"
      ]
     },
     "metadata": {},
     "output_type": "display_data"
    }
   ],
   "source": [
    "# Find how many true values are in Age_Quantile_Q1-4 \n",
    "df_obj= pd.get_dummies(df_obj)\n",
    "print(df_obj.sum())\n",
    "\n",
    "# Find average number of true values\n",
    "print((df_obj.sum() / len(df_obj)) * 100)\n",
    "\n",
    "# Plot the counts for each Age Quantile column\n",
    "sns.barplot(x=df_obj.sum().index, y=df_obj.sum().values)\n",
    "plt.xlabel('Age Quantiles')\n",
    "plt.ylabel('Count of True Values')\n",
    "plt.title('Count of True Values per Age Quantile')\n",
    "plt.show()"
   ]
  },
  {
   "cell_type": "code",
   "execution_count": 67,
   "id": "0b15b373",
   "metadata": {},
   "outputs": [],
   "source": [
    "attr = df.drop(columns=[\"age\", \"trestbps\", \"chol\", \"thalach\", \"Heart_problem\"])\n",
    "attr = pd.get_dummies(attr)\n",
    "\n",
    "target = df['Heart_problem']\n",
    "\n",
    "# Split the data into training and testing sets\n",
    "attr_train, attr_test, target_train, target_test = train_test_split(attr, target, test_size=0.25, random_state=6)"
   ]
  },
  {
   "cell_type": "code",
   "execution_count": 68,
   "id": "bf2dfe7d",
   "metadata": {},
   "outputs": [],
   "source": [
    "from sklearn.tree import DecisionTreeClassifier\n",
    "model = DecisionTreeClassifier()"
   ]
  },
  {
   "cell_type": "code",
   "execution_count": 69,
   "id": "ccbf1390",
   "metadata": {},
   "outputs": [],
   "source": [
    "model.fit(attr_train,target_train)\n",
    "target_pred = model.predict(attr_test)"
   ]
  },
  {
   "cell_type": "code",
   "execution_count": 70,
   "id": "5d1d1c19",
   "metadata": {},
   "outputs": [
    {
     "name": "stdout",
     "output_type": "stream",
     "text": [
      "[[32 11]\n",
      " [11 22]]\n",
      "              precision    recall  f1-score   support\n",
      "\n",
      "           0       0.74      0.74      0.74        43\n",
      "           1       0.67      0.67      0.67        33\n",
      "\n",
      "    accuracy                           0.71        76\n",
      "   macro avg       0.71      0.71      0.71        76\n",
      "weighted avg       0.71      0.71      0.71        76\n",
      "\n"
     ]
    }
   ],
   "source": [
    "from sklearn.metrics import confusion_matrix, classification_report\n",
    "print(confusion_matrix(target_test,target_pred))\n",
    "print(classification_report(target_test,target_pred))"
   ]
  },
  {
   "cell_type": "code",
   "execution_count": 71,
   "id": "7e734b95",
   "metadata": {},
   "outputs": [],
   "source": [
    "import matplotlib.pyplot as plt\n",
    "from sklearn.tree import plot_tree\n",
    "\n",
    "plt.figure(figsize=(50,30), dpi=250)\n",
    "plot_tree(model,fontsize=20,filled=True,feature_names=attr.columns);"
   ]
  }
 ],
 "metadata": {
  "kernelspec": {
   "display_name": "Python 3 (ipykernel)",
   "language": "python",
   "name": "python3"
  },
  "language_info": {
   "codemirror_mode": {
    "name": "ipython",
    "version": 3
   },
   "file_extension": ".py",
   "mimetype": "text/x-python",
   "name": "python",
   "nbconvert_exporter": "python",
   "pygments_lexer": "ipython3",
   "version": "3.10.9"
  }
 },
 "nbformat": 4,
 "nbformat_minor": 5
}
