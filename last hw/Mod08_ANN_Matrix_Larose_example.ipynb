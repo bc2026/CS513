{
 "cells": [
  {
   "cell_type": "code",
   "execution_count": 11,
   "id": "d535d1f5",
   "metadata": {},
   "outputs": [
    {
     "name": "stdout",
     "output_type": "stream",
     "text": [
      "Empty DataFrame\n",
      "Columns: [id, diagnosis, radius_mean, texture_mean, perimeter_mean, area_mean, smoothness_mean, compactness_mean, concavity_mean, concave points_mean, symmetry_mean, fractal_dimension_mean, radius_se, texture_se, perimeter_se, area_se, smoothness_se, compactness_se, concavity_se, concave points_se, symmetry_se, fractal_dimension_se, radius_worst, texture_worst, perimeter_worst, area_worst, smoothness_worst, compactness_worst, concavity_worst, concave points_worst, symmetry_worst, fractal_dimension_worst]\n",
      "Index: []\n",
      "\n",
      "[0 rows x 32 columns]\n"
     ]
    }
   ],
   "source": [
    "import pandas as pd\n",
    "# Loading iris\n",
    "df = pd.read_csv('./wisc_bc_ContinuousVar.csv')\n",
    "# df.head()\n",
    "# print(df.describe())\n",
    "# #data preprocessing\n",
    "# df['Species'] = pd.Categorical(df['Species'])  # convert Species column to categorical data type\n",
    "df.head(10)\n",
    "df = df.dropna() # drops NaN values \n",
    "print(df[df.isna().any(axis=1)]) # shows NaN values in data frame if it exists\n",
    "\n",
    "\n",
    "\n",
    "\n",
    "df = df.dropna() # drops NaN values \n",
    "#print(df[df.isna().any(axis=1)]) # shows NaN values in data frame if it exists\n",
    "\n",
    "# Splitting the dataset\n",
    "attr = df.drop(columns = ['diagnosis', 'id'])  # features\n",
    "labels = df['diagnosis']  # target variable\n",
    "labels = labels.map({'M': 0, 'B': 1})\n"
   ]
  },
  {
   "cell_type": "code",
   "execution_count": 14,
   "id": "d5d4947f",
   "metadata": {},
   "outputs": [],
   "source": [
    "# Separate features and target\n",
    "X = attr.values  # Assuming the last column is the target\n",
    "y = labels.values\n",
    "\n",
    "# Normalize features\n",
    "from sklearn.preprocessing import MinMaxScaler\n",
    "scaler = MinMaxScaler()\n",
    "X = scaler.fit_transform(X)\n",
    "\n",
    "# Split data into training and test sets\n",
    "from sklearn.model_selection import train_test_split\n",
    "X_train, X_test, y_train, y_test = train_test_split(X, y, test_size=0.3, random_state=42)\n",
    "\n",
    "i = X_train[0]"
   ]
  },
  {
   "cell_type": "code",
   "execution_count": 20,
   "id": "f05653ff",
   "metadata": {},
   "outputs": [
    {
     "name": "stdout",
     "output_type": "stream",
     "text": [
      "[[0.04808839 0.59480291 0.66724803 0.77266286 0.00809628]\n",
      " [0.69024161 0.25863928 0.26820654 0.8168325  0.64760648]\n",
      " [0.4826889  0.7531197  0.21615819 0.62209187 0.93425995]\n",
      " [0.54200661 0.60450749 0.70544457 0.17198746 0.23005065]\n",
      " [0.973854   0.32102649 0.00952904 0.29007852 0.77683949]\n",
      " [0.33068711 0.64525123 0.97004208 0.76862741 0.32651535]\n",
      " [0.54221827 0.84934093 0.69154541 0.68947396 0.09866718]\n",
      " [0.51474194 0.96039545 0.63873137 0.06994908 0.22626543]\n",
      " [0.20844631 0.4888792  0.69401194 0.71057652 0.38941888]\n",
      " [0.50520999 0.46114096 0.50092072 0.70991044 0.1248878 ]\n",
      " [0.48984889 0.77598174 0.10708371 0.36666875 0.11249925]\n",
      " [0.04417046 0.92615114 0.06346649 0.36069674 0.58797975]\n",
      " [0.70055295 0.69195477 0.81629387 0.88832023 0.36259812]\n",
      " [0.60182139 0.01207736 0.98672742 0.56510184 0.95019736]\n",
      " [0.37928785 0.74906261 0.07272595 0.27591054 0.62511806]\n",
      " [0.35617423 0.55456956 0.62073311 0.15556891 0.1056406 ]\n",
      " [0.52005571 0.76431941 0.95901497 0.85647258 0.94209092]\n",
      " [0.65593285 0.52447379 0.244285   0.77989814 0.40444328]\n",
      " [0.32171716 0.13082597 0.84739896 0.75121019 0.92364774]\n",
      " [0.99033191 0.18604584 0.81998813 0.40041668 0.58404926]\n",
      " [0.95126633 0.26403617 0.36608913 0.64897439 0.49177492]\n",
      " [0.44397083 0.22848066 0.5713975  0.09746155 0.3505924 ]\n",
      " [0.98491154 0.10599133 0.09713331 0.35733765 0.23046587]\n",
      " [0.42234076 0.01274629 0.52051697 0.0831974  0.88040989]\n",
      " [0.45754475 0.97131088 0.57546006 0.62549575 0.27634126]\n",
      " [0.94942383 0.68595766 0.9238174  0.05641161 0.45725275]\n",
      " [0.14784457 0.3414856  0.17654233 0.8518284  0.01032982]\n",
      " [0.61481102 0.78350787 0.47980577 0.36721132 0.15218806]\n",
      " [0.11744269 0.50054873 0.86463448 0.59739638 0.47520739]\n",
      " [0.00346544 0.44813771 0.06096878 0.32091264 0.93047045]]\n",
      "\n",
      "[0.82577473 0.21018588 0.16721537 0.19087061 0.03046883 0.11606646]\n",
      "\n",
      "[0.90366228 0.89553222 0.88723759 0.89985868 0.86826295]\n",
      "[1.         0.90366228 0.89553222 0.88723759 0.89985868 0.86826295]\n",
      "0.8119910821496432\n"
     ]
    }
   ],
   "source": [
    "## define the initial weights, input and sigmoid function and caculate the forward feed\n",
    "import numpy as np\n",
    "from scipy.special import expit, logit\n",
    "\n",
    "import numpy as np\n",
    "\n",
    "# Initialize weight matrix with random values\n",
    "num_hidden_neurons = 5\n",
    "#num_features=len(attr.columns)\n",
    "weight_ih = np.random.rand(len(attr.columns), num_hidden_neurons)\n",
    "\n",
    "\n",
    "print( weight_ih)\n",
    "print()\n",
    "weight_ho = np.random.rand(num_hidden_neurons + 1)\n",
    "print(weight_ho)\n",
    "print()\n",
    "i=X_train[0]\n",
    "out_hiddenL=expit(i.dot(weight_ih)) \n",
    "print(out_hiddenL)\n",
    "one=np.array([1])\n",
    "input_outputL=np.concatenate((one,out_hiddenL),axis=0)\n",
    "print(input_outputL)\n",
    "out_outL=expit(input_outputL.dot(weight_ho)) \n",
    "print(out_outL)"
   ]
  },
  {
   "cell_type": "code",
   "execution_count": 21,
   "id": "bd59c041",
   "metadata": {},
   "outputs": [
    {
     "name": "stdout",
     "output_type": "stream",
     "text": [
      "0.011991082149643173\n"
     ]
    }
   ],
   "source": [
    "Actual=.8\n",
    "eta= .1\n",
    "e=out_outL-Actual\n",
    "print(e)\n",
    " "
   ]
  },
  {
   "cell_type": "code",
   "execution_count": 22,
   "id": "3a9f0628",
   "metadata": {},
   "outputs": [
    {
     "name": "stdout",
     "output_type": "stream",
     "text": [
      "-0.0018305773629202662\n",
      "[-0.00018306 -0.00016542 -0.00016393 -0.00016242 -0.00016473 -0.00015894]\n"
     ]
    }
   ],
   "source": [
    "delta= -1*(out_outL)*(1-out_outL)*e\n",
    "print(delta)\n",
    "DELTA=eta*delta*input_outputL\n",
    "print(DELTA)\n",
    "#-0.000820411\n",
    "#-0.000647454\n",
    "#-0.000670747"
   ]
  },
  {
   "cell_type": "code",
   "execution_count": 23,
   "id": "57312597",
   "metadata": {},
   "outputs": [
    {
     "name": "stdout",
     "output_type": "stream",
     "text": [
      "[0.82559167 0.21002046 0.16705144 0.19070819 0.0303041  0.11590752]\n",
      "[0.82577473 0.21018588 0.16721537 0.19087061 0.03046883 0.11606646]\n",
      "[-0.00038476 -0.0003061 ]\n"
     ]
    }
   ],
   "source": [
    "\n",
    "New_ho=weight_ho + DELTA\n",
    "print(New_ho)\n",
    "print(weight_ho)\n",
    "e_hidden=weight_ho[[1,2]].dot(delta)\n",
    "print(e_hidden)\n",
    "#-0.007383703\n",
    "#-0.007383703\n"
   ]
  },
  {
   "cell_type": "code",
   "execution_count": null,
   "id": "457b8303",
   "metadata": {},
   "outputs": [],
   "source": [
    "# delta_h= e_hidden.dot(out_hiddenL.dot(1-out_hiddenL))\n",
    "# print(delta_h)"
   ]
  }
 ],
 "metadata": {
  "kernelspec": {
   "display_name": "Python 3 (ipykernel)",
   "language": "python",
   "name": "python3"
  },
  "language_info": {
   "codemirror_mode": {
    "name": "ipython",
    "version": 3
   },
   "file_extension": ".py",
   "mimetype": "text/x-python",
   "name": "python",
   "nbconvert_exporter": "python",
   "pygments_lexer": "ipython3",
   "version": "3.11.2"
  }
 },
 "nbformat": 4,
 "nbformat_minor": 5
}
