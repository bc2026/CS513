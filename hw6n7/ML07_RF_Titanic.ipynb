{
 "cells": [
  {
   "cell_type": "code",
   "execution_count": null,
   "id": "27d09119",
   "metadata": {},
   "outputs": [],
   "source": [
    "import pandas as pd\n",
    "from sklearn.model_selection import train_test_split\n",
    "from sklearn.tree import DecisionTreeClassifier\n",
    "from sklearn.ensemble import RandomForestClassifier\n",
    "from sklearn.metrics import confusion_matrix, classification_report, accuracy_score\n",
    "import seaborn as sns\n",
    "import matplotlib.pyplot as plt\n",
    "from sklearn.tree import plot_tree"
   ]
  },
  {
   "cell_type": "code",
   "execution_count": 14,
   "id": "04c626e1",
   "metadata": {},
   "outputs": [
    {
     "name": "stdout",
     "output_type": "stream",
     "text": [
      "Empty DataFrame\n",
      "Columns: [Sample, F1, F2, F3, F4, F5, F6, F7, F8, F9, Class]\n",
      "Index: []\n",
      "<class 'pandas.core.frame.DataFrame'>\n",
      "RangeIndex: 699 entries, 0 to 698\n",
      "Data columns (total 11 columns):\n",
      " #   Column  Non-Null Count  Dtype \n",
      "---  ------  --------------  ----- \n",
      " 0   Sample  699 non-null    int64 \n",
      " 1   F1      699 non-null    int64 \n",
      " 2   F2      699 non-null    int64 \n",
      " 3   F3      699 non-null    int64 \n",
      " 4   F4      699 non-null    int64 \n",
      " 5   F5      699 non-null    int64 \n",
      " 6   F6      699 non-null    object\n",
      " 7   F7      699 non-null    int64 \n",
      " 8   F8      699 non-null    int64 \n",
      " 9   F9      699 non-null    int64 \n",
      " 10  Class   699 non-null    int64 \n",
      "dtypes: int64(10), object(1)\n",
      "memory usage: 60.2+ KB\n"
     ]
    }
   ],
   "source": [
    "# Load Titanic dataset \n",
    "df = pd.read_csv('./breast-cancer-wisconsin.csv')\n",
    "\n",
    "print(df[df.isna().any(axis=1)]) # shows NaN values in data frame if it exists\n",
    "df.info()"
   ]
  },
  {
   "cell_type": "code",
   "execution_count": 13,
   "id": "f52d37ee",
   "metadata": {},
   "outputs": [
    {
     "name": "stdout",
     "output_type": "stream",
     "text": [
      "<class 'pandas.core.frame.DataFrame'>\n",
      "RangeIndex: 699 entries, 0 to 698\n",
      "Data columns (total 10 columns):\n",
      " #   Column  Non-Null Count  Dtype\n",
      "---  ------  --------------  -----\n",
      " 0   Sample  699 non-null    int64\n",
      " 1   F1      699 non-null    int64\n",
      " 2   F2      699 non-null    int64\n",
      " 3   F3      699 non-null    int64\n",
      " 4   F4      699 non-null    int64\n",
      " 5   F5      699 non-null    int64\n",
      " 6   F7      699 non-null    int64\n",
      " 7   F8      699 non-null    int64\n",
      " 8   F9      699 non-null    int64\n",
      " 9   Class   699 non-null    int64\n",
      "dtypes: int64(10)\n",
      "memory usage: 54.7 KB\n",
      "<class 'pandas.core.frame.DataFrame'>\n",
      "RangeIndex: 699 entries, 0 to 698\n",
      "Data columns (total 1 columns):\n",
      " #   Column  Non-Null Count  Dtype \n",
      "---  ------  --------------  ----- \n",
      " 0   F6      699 non-null    object\n",
      "dtypes: object(1)\n",
      "memory usage: 5.6+ KB\n"
     ]
    }
   ],
   "source": [
    "df_num= df.select_dtypes(exclude='object')\n",
    "df_obj= df.select_dtypes(include='object')\n",
    "df_num.info()\n",
    "df_obj.info()"
   ]
  },
  {
   "cell_type": "code",
   "execution_count": 16,
   "id": "0580a368",
   "metadata": {},
   "outputs": [
    {
     "name": "stdout",
     "output_type": "stream",
     "text": [
      "Class\n",
      "False    683\n",
      "True      16\n",
      "Name: count, dtype: int64\n",
      "Class\n",
      "False    683\n",
      "True      16\n",
      "Name: count, dtype: int64\n",
      "Class\n",
      "False    97.711016\n",
      "True      2.288984\n",
      "Name: count, dtype: float64\n"
     ]
    },
    {
     "data": {
      "text/html": [
       "<div>\n",
       "<style scoped>\n",
       "    .dataframe tbody tr th:only-of-type {\n",
       "        vertical-align: middle;\n",
       "    }\n",
       "\n",
       "    .dataframe tbody tr th {\n",
       "        vertical-align: top;\n",
       "    }\n",
       "\n",
       "    .dataframe thead th {\n",
       "        text-align: right;\n",
       "    }\n",
       "</style>\n",
       "<table border=\"1\" class=\"dataframe\">\n",
       "  <thead>\n",
       "    <tr style=\"text-align: right;\">\n",
       "      <th></th>\n",
       "      <th>F6_10</th>\n",
       "      <th>F6_2</th>\n",
       "      <th>F6_3</th>\n",
       "      <th>F6_4</th>\n",
       "      <th>F6_5</th>\n",
       "      <th>F6_6</th>\n",
       "      <th>F6_7</th>\n",
       "      <th>F6_8</th>\n",
       "      <th>F6_9</th>\n",
       "      <th>Class</th>\n",
       "    </tr>\n",
       "  </thead>\n",
       "  <tbody>\n",
       "    <tr>\n",
       "      <th>0</th>\n",
       "      <td>False</td>\n",
       "      <td>False</td>\n",
       "      <td>False</td>\n",
       "      <td>False</td>\n",
       "      <td>False</td>\n",
       "      <td>False</td>\n",
       "      <td>False</td>\n",
       "      <td>False</td>\n",
       "      <td>False</td>\n",
       "      <td>False</td>\n",
       "    </tr>\n",
       "    <tr>\n",
       "      <th>1</th>\n",
       "      <td>True</td>\n",
       "      <td>False</td>\n",
       "      <td>False</td>\n",
       "      <td>False</td>\n",
       "      <td>False</td>\n",
       "      <td>False</td>\n",
       "      <td>False</td>\n",
       "      <td>False</td>\n",
       "      <td>False</td>\n",
       "      <td>False</td>\n",
       "    </tr>\n",
       "    <tr>\n",
       "      <th>2</th>\n",
       "      <td>False</td>\n",
       "      <td>True</td>\n",
       "      <td>False</td>\n",
       "      <td>False</td>\n",
       "      <td>False</td>\n",
       "      <td>False</td>\n",
       "      <td>False</td>\n",
       "      <td>False</td>\n",
       "      <td>False</td>\n",
       "      <td>False</td>\n",
       "    </tr>\n",
       "    <tr>\n",
       "      <th>3</th>\n",
       "      <td>False</td>\n",
       "      <td>False</td>\n",
       "      <td>False</td>\n",
       "      <td>True</td>\n",
       "      <td>False</td>\n",
       "      <td>False</td>\n",
       "      <td>False</td>\n",
       "      <td>False</td>\n",
       "      <td>False</td>\n",
       "      <td>False</td>\n",
       "    </tr>\n",
       "    <tr>\n",
       "      <th>4</th>\n",
       "      <td>False</td>\n",
       "      <td>False</td>\n",
       "      <td>False</td>\n",
       "      <td>False</td>\n",
       "      <td>False</td>\n",
       "      <td>False</td>\n",
       "      <td>False</td>\n",
       "      <td>False</td>\n",
       "      <td>False</td>\n",
       "      <td>False</td>\n",
       "    </tr>\n",
       "  </tbody>\n",
       "</table>\n",
       "</div>"
      ],
      "text/plain": [
       "   F6_10   F6_2   F6_3   F6_4   F6_5   F6_6   F6_7   F6_8   F6_9  Class\n",
       "0  False  False  False  False  False  False  False  False  False  False\n",
       "1   True  False  False  False  False  False  False  False  False  False\n",
       "2  False   True  False  False  False  False  False  False  False  False\n",
       "3  False  False  False   True  False  False  False  False  False  False\n",
       "4  False  False  False  False  False  False  False  False  False  False"
      ]
     },
     "execution_count": 16,
     "metadata": {},
     "output_type": "execute_result"
    },
    {
     "data": {
      "image/png": "[encoded data removed]",
      "text/plain": [
       "<Figure size 640x480 with 1 Axes>"
      ]
     },
     "metadata": {},
     "output_type": "display_data"
    }
   ],
   "source": [
    "df_obj= pd.get_dummies(df_obj, drop_first=True)\n",
    "df_obj = df_obj.rename(columns={'F6_?': 'Class'})\n",
    "\n",
    "print(df_obj['Class'].value_counts())\n",
    "print(df_obj['Class'].value_counts())\n",
    "print( (df_obj['Class'].value_counts()/ df_obj['Class'].value_counts().sum()) * 100)\n",
    "sns.countplot(data=df_obj, x='Class')\n",
    "df_obj.head()"
   ]
  },
  {
   "cell_type": "code",
   "execution_count": 17,
   "id": "0b15b373",
   "metadata": {},
   "outputs": [],
   "source": [
    "attr = df_obj.drop('Class', axis=1)\n",
    "target = df_obj['Class']\n",
    "\n",
    "# Split the data into training and testing sets\n",
    "attr_train, attr_test, target_train, target_test = train_test_split(attr, target, test_size=0.2, random_state=5)"
   ]
  },
  {
   "cell_type": "code",
   "execution_count": 18,
   "id": "17cf938b",
   "metadata": {},
   "outputs": [],
   "source": [
    "from sklearn.ensemble import RandomForestClassifier\n",
    "model = RandomForestClassifier(n_estimators=100,random_state=7)\n"
   ]
  },
  {
   "cell_type": "code",
   "execution_count": 19,
   "id": "ccbf1390",
   "metadata": {},
   "outputs": [],
   "source": [
    "model.fit(attr_train,target_train)\n",
    "target_pred = model.predict(attr_test)\n",
    " "
   ]
  },
  {
   "cell_type": "code",
   "execution_count": 20,
   "id": "5d1d1c19",
   "metadata": {},
   "outputs": [
    {
     "name": "stdout",
     "output_type": "stream",
     "text": [
      "Accuracy= 0.9857142857142858\n",
      "[[138   0]\n",
      " [  2   0]]\n",
      "              precision    recall  f1-score   support\n",
      "\n",
      "       False       0.99      1.00      0.99       138\n",
      "        True       0.00      0.00      0.00         2\n",
      "\n",
      "    accuracy                           0.99       140\n",
      "   macro avg       0.49      0.50      0.50       140\n",
      "weighted avg       0.97      0.99      0.98       140\n",
      "\n"
     ]
    },
    {
     "name": "stderr",
     "output_type": "stream",
     "text": [
      "/home/bc/.local/lib/python3.11/site-packages/sklearn/metrics/_classification.py:1531: UndefinedMetricWarning: Precision is ill-defined and being set to 0.0 in labels with no predicted samples. Use `zero_division` parameter to control this behavior.\n",
      "  _warn_prf(average, modifier, f\"{metric.capitalize()} is\", len(result))\n",
      "/home/bc/.local/lib/python3.11/site-packages/sklearn/metrics/_classification.py:1531: UndefinedMetricWarning: Precision is ill-defined and being set to 0.0 in labels with no predicted samples. Use `zero_division` parameter to control this behavior.\n",
      "  _warn_prf(average, modifier, f\"{metric.capitalize()} is\", len(result))\n",
      "/home/bc/.local/lib/python3.11/site-packages/sklearn/metrics/_classification.py:1531: UndefinedMetricWarning: Precision is ill-defined and being set to 0.0 in labels with no predicted samples. Use `zero_division` parameter to control this behavior.\n",
      "  _warn_prf(average, modifier, f\"{metric.capitalize()} is\", len(result))\n"
     ]
    }
   ],
   "source": [
    "from sklearn.metrics import confusion_matrix, classification_report, accuracy_score\n",
    "print(f\"Accuracy= {accuracy_score(target_test,target_pred)}\")\n",
    "\n",
    "print(confusion_matrix(target_test,target_pred))\n",
    "print(classification_report(target_test,target_pred))"
   ]
  },
  {
   "cell_type": "code",
   "execution_count": null,
   "id": "f756001c",
   "metadata": {},
   "outputs": [],
   "source": [
    "# Export the first three decision trees from the forest\n",
    "## requires graphviz\n",
    "# for i in range(3):\n",
    "#     tree = rf.estimators_[i]\n",
    "#     dot_data = export_graphviz(tree,\n",
    "#                                feature_names=X_train.columns,  \n",
    "#                                filled=True,  \n",
    "#                                max_depth=2, \n",
    "#                                impurity=False, \n",
    "#                                proportion=True)\n",
    "#     graph = graphviz.Source(dot_data)\n",
    "#     display(graph)"
   ]
  },
  {
   "cell_type": "code",
   "execution_count": 21,
   "id": "a0a9abe1",
   "metadata": {},
   "outputs": [
    {
     "name": "stdout",
     "output_type": "stream",
     "text": [
      "Mean Decrease Accuracy[0.38308041 0.122525   0.10676906 0.08331698 0.11616165 0.02510676\n",
      " 0.02726789 0.09295259 0.04281966]\n",
      "\n",
      "Mean Decrease GINI= [0.01740333 0.00556631 0.00485051 0.00378509 0.00527722 0.0011406\n",
      " 0.00123878 0.00422283 0.0019453 ]\n"
     ]
    }
   ],
   "source": [
    "\n",
    "# Feature importance for Mean Decrease Accuracy\n",
    "mean_decrease_accuracy = model.feature_importances_\n",
    "print(f\"Mean Decrease Accuracy{ mean_decrease_accuracy}\")\n",
    "# # Feature importance for Mean Decrease GINI\n",
    "# # Note: GINI importance is specific to decision trees and random forests\n",
    "gini_importance = model.feature_importances_ * model.estimators_[0].tree_.impurity[0]\n",
    "print(f\"\\nMean Decrease GINI= {gini_importance}\")\n",
    " "
   ]
  },
  {
   "cell_type": "code",
   "execution_count": 22,
   "id": "8b96bcbc",
   "metadata": {},
   "outputs": [
    {
     "data": {
      "image/png": "[encoded data removed]",
      "text/plain": [
       "<Figure size 1000x600 with 1 Axes>"
      ]
     },
     "metadata": {},
     "output_type": "display_data"
    },
    {
     "data": {
      "image/png": "[encoded data removed]",
      "text/plain": [
       "<Figure size 1000x600 with 1 Axes>"
      ]
     },
     "metadata": {},
     "output_type": "display_data"
    }
   ],
   "source": [
    "plt.figure(figsize=(10, 6))\n",
    "plt.barh(range(len(mean_decrease_accuracy)), mean_decrease_accuracy, align='center')\n",
    "plt.yticks(range(len(mean_decrease_accuracy)), attr.columns)\n",
    "plt.xlabel('Mean Decrease Accuracy')\n",
    "plt.title('Feature Importance - Mean Decrease Accuracy')\n",
    "plt.show()\n",
    "plt.figure(figsize=(10, 6))\n",
    "plt.barh(range(len(gini_importance)), gini_importance, align='center')\n",
    "plt.yticks(range(len(gini_importance)), attr.columns)\n",
    "plt.xlabel('Mean Decrease GINI')\n",
    "plt.title('Feature Importance - Mean Decrease GINI')\n",
    "plt.show()"
   ]
  },
  {
   "cell_type": "code",
   "execution_count": 24,
   "id": "e7a13cbe",
   "metadata": {},
   "outputs": [
    {
     "name": "stdout",
     "output_type": "stream",
     "text": [
      "F6_10    0.383080\n",
      "F6_2     0.122525\n",
      "F6_5     0.116162\n",
      "F6_3     0.106769\n",
      "F6_8     0.092953\n",
      "F6_4     0.083317\n",
      "F6_9     0.042820\n",
      "F6_7     0.027268\n",
      "F6_6     0.025107\n",
      "dtype: float64\n"
     ]
    }
   ],
   "source": [
    "\n",
    "feature_scores = pd.Series(model.feature_importances_, index=attr_train.columns).sort_values(ascending=False)\n",
    "\n",
    "print(feature_scores)"
   ]
  },
  {
   "cell_type": "markdown",
   "id": "0dd1bace",
   "metadata": {},
   "source": [
    "Interperation: \n",
    "\n",
    "The F_1 Column contributes the most to the model's predictive accuracy since it has a higher mean decrease so it is more critical to maintain accuracy. We see the same thing in the **mean decrease gini** as it improves the purity of nodes in the decision trees within the model. Overall, F6_10 appears to be the dominant feature for both metrics, indicating it provides the most meaningful information in your model. Features like F6_5 and F6_8 also contribute but to a lesser extent, while features like F6_7 and F6_6 contribute the least."
   ]
  }
 ],
 "metadata": {
  "kernelspec": {
   "display_name": "Python 3 (ipykernel)",
   "language": "python",
   "name": "python3"
  },
  "language_info": {
   "codemirror_mode": {
    "name": "ipython",
    "version": 3
   },
   "file_extension": ".py",
   "mimetype": "text/x-python",
   "name": "python",
   "nbconvert_exporter": "python",
   "pygments_lexer": "ipython3",
   "version": "3.11.2"
  }
 },
 "nbformat": 4,
 "nbformat_minor": 5
}
